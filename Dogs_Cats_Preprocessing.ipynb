{
 "cells": [
  {
   "cell_type": "markdown",
   "id": "d11311d1",
   "metadata": {},
   "source": [
    "# Load the data and control if balanced"
   ]
  },
  {
   "cell_type": "code",
   "execution_count": 1,
   "id": "1a4785a1",
   "metadata": {},
   "outputs": [],
   "source": [
    "%matplotlib inline\n",
    "import os\n",
    "import cv2\n",
    "import matplotlib.pyplot as plt\n",
    "import numpy as np\n",
    "from sklearn.model_selection import train_test_split\n",
    "import pickle"
   ]
  },
  {
   "cell_type": "code",
   "execution_count": 19,
   "id": "808b568d",
   "metadata": {},
   "outputs": [],
   "source": [
    "train_dir = 'train'\n",
    "test_dir = 'test1'"
   ]
  },
  {
   "cell_type": "code",
   "execution_count": 20,
   "id": "40034ad2",
   "metadata": {},
   "outputs": [],
   "source": [
    "train_pics = os.listdir(train_dir)\n",
    "test_pics = os.listdir(test_dir)"
   ]
  },
  {
   "cell_type": "code",
   "execution_count": 4,
   "id": "5e333f99",
   "metadata": {},
   "outputs": [
    {
     "data": {
      "text/plain": [
       "25000"
      ]
     },
     "execution_count": 4,
     "metadata": {},
     "output_type": "execute_result"
    }
   ],
   "source": [
    "len(train_pics)"
   ]
  },
  {
   "cell_type": "code",
   "execution_count": 5,
   "id": "16b10f4f",
   "metadata": {},
   "outputs": [],
   "source": [
    "dogs_train = 0\n",
    "cats_train = 0"
   ]
  },
  {
   "cell_type": "code",
   "execution_count": 6,
   "id": "8c54a6ff",
   "metadata": {},
   "outputs": [],
   "source": [
    "for pic in train_pics:\n",
    "    if 'dog' in pic:\n",
    "        dogs_train += 1\n",
    "    elif 'cat' in pic:\n",
    "        cats_train += 1"
   ]
  },
  {
   "cell_type": "code",
   "execution_count": 7,
   "id": "56b50c3d",
   "metadata": {},
   "outputs": [
    {
     "name": "stdout",
     "output_type": "stream",
     "text": [
      "Dogs: 12500; Cats: 12500\n"
     ]
    }
   ],
   "source": [
    "print(f'Dogs: {dogs_train}; Cats: {cats_train}')"
   ]
  },
  {
   "cell_type": "markdown",
   "id": "5c8ef9ef",
   "metadata": {},
   "source": [
    "# Preprocess the data"
   ]
  },
  {
   "cell_type": "markdown",
   "id": "b2bc8737",
   "metadata": {},
   "source": [
    "Labels: Dogs = 0; Cats = 1"
   ]
  },
  {
   "cell_type": "code",
   "execution_count": 8,
   "id": "72485fba",
   "metadata": {},
   "outputs": [],
   "source": [
    "def preprocess_train(folder, size):\n",
    "    \n",
    "    pictures = os.listdir(folder)  # folder with the pictures\n",
    "    \n",
    "    features = []\n",
    "    labels = []\n",
    "    \n",
    "    for pic in pictures:\n",
    "        img_path = os.path.join(folder, pic)\n",
    "        img = cv2.imread(img_path)\n",
    "        img_resized = cv2.resize(img, (size, size))  # resize the image to the same size\n",
    "        img_array = np.asarray(img_resized)\n",
    "        img_scaled = (img_array/255.0).astype('float32')\n",
    "        features.append(img_array)\n",
    "                \n",
    "        if 'cat' in pic:\n",
    "            labels.append(1)\n",
    "        elif 'dog' in pic:\n",
    "            labels.append(0)\n",
    "\n",
    "    X_train, X_test, y_train, y_test = train_test_split(features, labels, test_size=0.3, random_state=42, shuffle=True)\n",
    "    \n",
    "    X_train_array = np.array(X_train)\n",
    "    X_test_array = np.array(X_test)\n",
    "    y_train_array = np.array(y_train)\n",
    "    y_test_array = np.array(y_test)\n",
    "    \n",
    "    return X_train_array, X_test_array, y_train_array, y_test_array"
   ]
  },
  {
   "cell_type": "code",
   "execution_count": 9,
   "id": "fe4feab4",
   "metadata": {},
   "outputs": [],
   "source": [
    "X_train, X_test, y_train, y_test = preprocess_train(folder=train_dir, size=200)"
   ]
  },
  {
   "cell_type": "code",
   "execution_count": 21,
   "id": "24293b33",
   "metadata": {},
   "outputs": [],
   "source": [
    "def preprocess_test(folder, size):\n",
    "    \n",
    "    pictures = os.listdir(folder)\n",
    "    \n",
    "    features = []\n",
    "    \n",
    "    for pic in pictures:\n",
    "        img_path = os.path.join(folder, pic)\n",
    "        img = cv2.imread(img_path)\n",
    "        img_resized = cv2.resize(img, (size, size))  # resize the image to the same size\n",
    "        img_array = np.asarray(img_resized)\n",
    "        img_scaled = (img_array/255.0).astype('float32')\n",
    "        features.append(img_array)\n",
    "    \n",
    "    testdata = np.array(features)\n",
    "    \n",
    "    return testdata"
   ]
  },
  {
   "cell_type": "code",
   "execution_count": 22,
   "id": "e6f5c041",
   "metadata": {},
   "outputs": [],
   "source": [
    "testdata = preprocess_test(folder=test_dir, size=200)"
   ]
  },
  {
   "cell_type": "markdown",
   "id": "586e95e8",
   "metadata": {},
   "source": [
    "# Save the data"
   ]
  },
  {
   "cell_type": "code",
   "execution_count": 16,
   "id": "b2d7c7c6",
   "metadata": {},
   "outputs": [],
   "source": [
    "def save_train():\n",
    "    path_train_scaled = '/home/olli/Projects/Exercises/Dogs_Cats/Train_Scaled'\n",
    "    \n",
    "    if not os.path.exists(path_train_scaled):\n",
    "        os.mkdir(path_train_scaled)\n",
    "    \n",
    "    X_train_scaled_path = os.path.join(path_train_scaled, 'X_train.pickle')\n",
    "    X_test_scaled_path = os.path.join(path_train_scaled, 'X_test.pickle')\n",
    "    y_train_scaled_path = os.path.join(path_train_scaled, 'y_train.pickle')\n",
    "    y_test_scaled_path = os.path.join(path_train_scaled, 'y_test.pickle')\n",
    "    \n",
    "    list_path = [X_train_scaled_path, X_test_scaled_path, y_train_scaled_path, y_test_scaled_path]\n",
    "    list_data = [X_train, X_test, y_train, y_test]\n",
    "    \n",
    "    for path, data in zip(list_path, list_data):\n",
    "    \n",
    "        if os.path.exists(path):  # if exists: data allready there\n",
    "            continue\n",
    "        \n",
    "        with open(path, 'wb') as f:\n",
    "            pickle.dump(data, f)\n",
    "    \n",
    "    print(os.listdir(path_train_scaled))"
   ]
  },
  {
   "cell_type": "code",
   "execution_count": 17,
   "id": "070ab261",
   "metadata": {},
   "outputs": [
    {
     "name": "stdout",
     "output_type": "stream",
     "text": [
      "['X_test', 'y_test', 'X_train', 'y_train']\n"
     ]
    }
   ],
   "source": [
    "save_train()"
   ]
  },
  {
   "cell_type": "code",
   "execution_count": 36,
   "id": "28317c57",
   "metadata": {},
   "outputs": [],
   "source": [
    "def save_test():\n",
    "    path_test_scaled = '/home/olli/Projects/Exercises/Dogs_Cats/Test_Scaled'\n",
    "    \n",
    "    if not os.path.exists(path_test_scaled):\n",
    "        os.mkdir(path_test_scaled)\n",
    "        \n",
    "        test_path = os.path.join(path_test_scaled, 'testdata.pickle')\n",
    "        \n",
    "        with open(test_path, 'wb') as f:\n",
    "            pickle.dump(testdata, f)\n",
    "    \n",
    "    print(os.listdir(path_test_scaled))    "
   ]
  },
  {
   "cell_type": "code",
   "execution_count": 37,
   "id": "9d5e3698",
   "metadata": {},
   "outputs": [
    {
     "name": "stdout",
     "output_type": "stream",
     "text": [
      "['testdata.pickle']\n"
     ]
    }
   ],
   "source": [
    "save_test()"
   ]
  }
 ],
 "metadata": {
  "kernelspec": {
   "display_name": "Python 3 (ipykernel)",
   "language": "python",
   "name": "python3"
  },
  "language_info": {
   "codemirror_mode": {
    "name": "ipython",
    "version": 3
   },
   "file_extension": ".py",
   "mimetype": "text/x-python",
   "name": "python",
   "nbconvert_exporter": "python",
   "pygments_lexer": "ipython3",
   "version": "3.9.7"
  }
 },
 "nbformat": 4,
 "nbformat_minor": 5
}
