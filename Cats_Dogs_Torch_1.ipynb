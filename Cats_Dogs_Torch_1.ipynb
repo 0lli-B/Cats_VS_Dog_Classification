{
 "cells": [
  {
   "cell_type": "code",
   "execution_count": 1,
   "id": "7ed4f798",
   "metadata": {},
   "outputs": [],
   "source": [
    "%matplotlib inline\n",
    "import matplotlib.pyplot as plt\n",
    "import matplotlib.ticker as mticker\n",
    "import matplotlib.ticker as mtick\n",
    "import numpy as np\n",
    "import os\n",
    "from glob import glob\n",
    "from random import shuffle, seed\n",
    "import shutil\n",
    "import cv2\n",
    "import torch\n",
    "import torch.nn as nn\n",
    "from torch.nn import Module\n",
    "import torch.nn.functional as F\n",
    "from torch.utils.data import DataLoader, Dataset\n",
    "from torch.optim import Adam\n",
    "from torch.nn import BCELoss\n",
    "from tqdm.notebook import tqdm\n",
    "from torchinfo import summary\n",
    "import torchvision\n",
    "from torchvision import transforms, models\n",
    "from torchvision.models import VGG16_Weights"
   ]
  },
  {
   "cell_type": "code",
   "execution_count": 2,
   "id": "a1627244",
   "metadata": {},
   "outputs": [
    {
     "data": {
      "text/plain": [
       "'cuda'"
      ]
     },
     "execution_count": 2,
     "metadata": {},
     "output_type": "execute_result"
    }
   ],
   "source": [
    "device = 'cuda' if torch.cuda.is_available() else 'cpu'\n",
    "device"
   ]
  },
  {
   "cell_type": "code",
   "execution_count": 3,
   "id": "3e839052",
   "metadata": {},
   "outputs": [
    {
     "data": {
      "text/plain": [
       "<torch._C.Generator at 0x7f8311e20410>"
      ]
     },
     "execution_count": 3,
     "metadata": {},
     "output_type": "execute_result"
    }
   ],
   "source": [
    "#Reproducability\n",
    "seed(42)\n",
    "torch.manual_seed(42)"
   ]
  },
  {
   "cell_type": "code",
   "execution_count": 4,
   "id": "5d6757bc",
   "metadata": {},
   "outputs": [],
   "source": [
    "IMG_SIZE = 224"
   ]
  },
  {
   "cell_type": "markdown",
   "id": "1bd31ae0",
   "metadata": {},
   "source": [
    "#### CAT: 0; DOG: 1"
   ]
  },
  {
   "cell_type": "markdown",
   "id": "6632e154",
   "metadata": {},
   "source": [
    "# Inspect the data"
   ]
  },
  {
   "cell_type": "code",
   "execution_count": 5,
   "id": "4af386e3",
   "metadata": {},
   "outputs": [],
   "source": [
    "train_dir = 'train'\n",
    "test_dir = 'test1'"
   ]
  },
  {
   "cell_type": "code",
   "execution_count": 6,
   "id": "1aa568cc",
   "metadata": {},
   "outputs": [
    {
     "data": {
      "text/plain": [
       "['dog.4305.jpg',\n",
       " 'dog.2640.jpg',\n",
       " 'dog.3795.jpg',\n",
       " 'dog.4766.jpg',\n",
       " 'cat.2785.jpg']"
      ]
     },
     "execution_count": 6,
     "metadata": {},
     "output_type": "execute_result"
    }
   ],
   "source": [
    "os.listdir(train_dir)[:5]"
   ]
  },
  {
   "cell_type": "code",
   "execution_count": 7,
   "id": "cb1570e6",
   "metadata": {},
   "outputs": [
    {
     "data": {
      "text/plain": [
       "['7813.jpg', '6116.jpg', '3885.jpg']"
      ]
     },
     "execution_count": 7,
     "metadata": {},
     "output_type": "execute_result"
    }
   ],
   "source": [
    "os.listdir(test_dir)[:3]"
   ]
  },
  {
   "cell_type": "markdown",
   "id": "1a921bdf",
   "metadata": {},
   "source": [
    "Split the training data into train & val set"
   ]
  },
  {
   "cell_type": "markdown",
   "id": "c7a58a35",
   "metadata": {},
   "source": [
    "## See how balanced the data is"
   ]
  },
  {
   "cell_type": "code",
   "execution_count": 8,
   "id": "a05de663",
   "metadata": {},
   "outputs": [
    {
     "name": "stdout",
     "output_type": "stream",
     "text": [
      "Number of Cats: 12500;\n",
      "Number of Dogs: 12500\n"
     ]
    }
   ],
   "source": [
    "num_dogs = len(glob(train_dir + '/dog*'))\n",
    "num_cats = len(glob(train_dir + '/cat*'))\n",
    "print(f'Number of Cats: {num_cats};\\nNumber of Dogs: {num_dogs}')"
   ]
  },
  {
   "cell_type": "markdown",
   "id": "45ecfbff",
   "metadata": {},
   "source": [
    "## Split the data"
   ]
  },
  {
   "cell_type": "code",
   "execution_count": 9,
   "id": "8975636b",
   "metadata": {},
   "outputs": [],
   "source": [
    "#return two lists with train & val files (70-30-split)\n",
    "def split_data(folder):\n",
    "    train_files = []\n",
    "    valid_files = []\n",
    "    \n",
    "    cats = glob(train_dir + '/cat*')\n",
    "    dogs = glob(train_dir + '/dog*')\n",
    "    \n",
    "    shuffle(cats)\n",
    "    shuffle(dogs)\n",
    "    \n",
    "    #index on which to split the lists\n",
    "    cat_index = int(0.7 * len(cats))\n",
    "    dog_index = int(0.7 * len(dogs))\n",
    "    \n",
    "    train_files.extend(cats[:cat_index])\n",
    "    valid_files.extend(cats[cat_index:])\n",
    "    train_files.extend(dogs[:dog_index])\n",
    "    valid_files.extend(dogs[dog_index:])\n",
    "    \n",
    "    print(f'Train Files: {len(train_files)};\\nValid Files: {len(valid_files)}')\n",
    "    \n",
    "    return train_files, valid_files"
   ]
  },
  {
   "cell_type": "code",
   "execution_count": 10,
   "id": "d7fd0544",
   "metadata": {},
   "outputs": [
    {
     "name": "stdout",
     "output_type": "stream",
     "text": [
      "Train Files: 17500;\n",
      "Valid Files: 7500\n"
     ]
    }
   ],
   "source": [
    "train_files, valid_files = split_data(folder=train_dir)"
   ]
  },
  {
   "cell_type": "code",
   "execution_count": 11,
   "id": "d060845d",
   "metadata": {},
   "outputs": [],
   "source": [
    "def create_train_val_folder(folder, train, valid):\n",
    "    train_folder = 'Training_Data'\n",
    "    valid_folder = 'Valid_Data'\n",
    "    \n",
    "    if not os.path.exists(train_folder):\n",
    "        os.mkdir(train_folder)\n",
    "        for file in train:\n",
    "            shutil.copy2(file, train_folder)\n",
    "            \n",
    "    if not os.path.exists(valid_folder):\n",
    "        os.mkdir(valid_folder)\n",
    "        for file in valid:\n",
    "            shutil.copy2(file, valid_folder)\n",
    "    \n",
    "    print(f'Files in Training_Folder: {len(os.listdir(train_folder))}')\n",
    "    print(f'Files in Valid_Folder: {len(os.listdir(valid_folder))}')"
   ]
  },
  {
   "cell_type": "code",
   "execution_count": 12,
   "id": "cdff80e9",
   "metadata": {},
   "outputs": [
    {
     "name": "stdout",
     "output_type": "stream",
     "text": [
      "Files in Training_Folder: 17500\n",
      "Files in Valid_Folder: 7500\n"
     ]
    }
   ],
   "source": [
    "create_train_val_folder(folder=train_dir, train=train_files, valid=valid_files)"
   ]
  },
  {
   "cell_type": "markdown",
   "id": "c0163b03",
   "metadata": {},
   "source": [
    "# Build a Dataset & Dataloader to get batches"
   ]
  },
  {
   "cell_type": "code",
   "execution_count": 13,
   "id": "d610a592",
   "metadata": {},
   "outputs": [],
   "source": [
    "class Cats_Dogs(Dataset):\n",
    "    \n",
    "    def __init__(self, folder):\n",
    "        \n",
    "        self.files = glob(folder + '/*')  # all files\n",
    "        shuffle(self.files)\n",
    "        get_target = lambda x: 1 if 'dog' in x else 0  # function to get correct target\n",
    "        self.targets = [get_target(x) for x in self.files]  # create targets\n",
    "        self.n_samples = len(self.files)\n",
    "    \n",
    "    def __len__(self):\n",
    "        return self.n_samples\n",
    "    \n",
    "    def __getitem__(self, index):\n",
    "        X = self.files[index]\n",
    "        y = self.targets[index]\n",
    "        y = torch.tensor(y).float()\n",
    "        X = cv2.imread(X)[:, :, ::-1]  # BGR --> RGB\n",
    "        X = cv2.resize(X, (IMG_SIZE, IMG_SIZE))\n",
    "        X = torch.tensor(X).float() / 255  # scale and make float\n",
    "        X = X.permute(2, 0, 1)  # channels in first dim\n",
    "\n",
    "        return X.to(device), y.to(device)"
   ]
  },
  {
   "cell_type": "code",
   "execution_count": 14,
   "id": "64aabb13",
   "metadata": {},
   "outputs": [],
   "source": [
    "train_dataset = Cats_Dogs(folder='Training_Data')\n",
    "valid_dataset = Cats_Dogs(folder='Valid_Data')"
   ]
  },
  {
   "cell_type": "code",
   "execution_count": 15,
   "id": "5e2cf7dc",
   "metadata": {},
   "outputs": [],
   "source": [
    "train_dataloader = DataLoader(dataset=train_dataset, batch_size=32, shuffle=True)\n",
    "valid_dataloader = DataLoader(dataset=valid_dataset, batch_size=32, shuffle=True)"
   ]
  },
  {
   "cell_type": "markdown",
   "id": "9068ae9a",
   "metadata": {},
   "source": [
    "# Build a CNN"
   ]
  },
  {
   "cell_type": "code",
   "execution_count": 16,
   "id": "3cd212f7",
   "metadata": {},
   "outputs": [],
   "source": [
    "class Cat_Dog_Net(Module):\n",
    "    def __init__(self):\n",
    "        super().__init__()\n",
    "        self.conv1 = nn.Conv2d(3, 64, (5, 5), padding='valid')  # first layer: less filter but bigger kernel\n",
    "        self.pool1 = nn.MaxPool2d(2)\n",
    "        self.conv2 = nn.Conv2d(64, 128, (3, 3), padding='valid')\n",
    "        self.pool2 = nn.MaxPool2d(2)\n",
    "        self.conv3 = nn.Conv2d(128, 256, (3, 3), padding='valid')\n",
    "        self.pool3 = nn.MaxPool2d(2)\n",
    "        self.conv4 = nn.Conv2d(256, 512, (3, 3), padding='valid')\n",
    "        self.pool4 = nn.MaxPool2d(2)\n",
    "        self.conv5 = nn.Conv2d(512, 512, (3, 3), padding='valid')\n",
    "            \n",
    "        self.avgpool = nn.AdaptiveAvgPool2d(1)\n",
    "        self.flatten = nn.Flatten()\n",
    "            \n",
    "        self.fc1 = nn.Linear(512, 32)\n",
    "        self.drop1 = nn.Dropout(0.2)\n",
    "        self.fc2 = nn.Linear(32, 1)\n",
    "        self.out = nn.Sigmoid()\n",
    "            \n",
    "    def forward(self, x):\n",
    "        x = F.relu(self.conv1(x))\n",
    "        x = self.pool1(x)\n",
    "        x = F.relu(self.conv2(x))\n",
    "        x = self.pool2(x)\n",
    "        x = F.relu(self.conv3(x))\n",
    "        x = self.pool3(x)\n",
    "        x = F.relu(self.conv4(x))\n",
    "        x = self.pool4(x)\n",
    "        x = F.relu(self.conv5(x))\n",
    "        \n",
    "        x = self.avgpool(x)\n",
    "        x = self.flatten(x)\n",
    "\n",
    "        x = self.fc1(x)\n",
    "        x = self.drop1(x)\n",
    "        x = self.fc2(x)\n",
    "        x = self.out(x)\n",
    "        \n",
    "        return x"
   ]
  },
  {
   "cell_type": "code",
   "execution_count": 17,
   "id": "ac3bdd25",
   "metadata": {},
   "outputs": [],
   "source": [
    "model_1 = Cat_Dog_Net().to(device)"
   ]
  },
  {
   "cell_type": "code",
   "execution_count": 18,
   "id": "d52715ed",
   "metadata": {},
   "outputs": [
    {
     "data": {
      "text/plain": [
       "==========================================================================================\n",
       "Layer (type:depth-idx)                   Output Shape              Param #\n",
       "==========================================================================================\n",
       "Cat_Dog_Net                              [1, 1]                    --\n",
       "├─Conv2d: 1-1                            [1, 64, 220, 220]         4,864\n",
       "├─MaxPool2d: 1-2                         [1, 64, 110, 110]         --\n",
       "├─Conv2d: 1-3                            [1, 128, 108, 108]        73,856\n",
       "├─MaxPool2d: 1-4                         [1, 128, 54, 54]          --\n",
       "├─Conv2d: 1-5                            [1, 256, 52, 52]          295,168\n",
       "├─MaxPool2d: 1-6                         [1, 256, 26, 26]          --\n",
       "├─Conv2d: 1-7                            [1, 512, 24, 24]          1,180,160\n",
       "├─MaxPool2d: 1-8                         [1, 512, 12, 12]          --\n",
       "├─Conv2d: 1-9                            [1, 512, 10, 10]          2,359,808\n",
       "├─AdaptiveAvgPool2d: 1-10                [1, 512, 1, 1]            --\n",
       "├─Flatten: 1-11                          [1, 512]                  --\n",
       "├─Linear: 1-12                           [1, 32]                   16,416\n",
       "├─Dropout: 1-13                          [1, 32]                   --\n",
       "├─Linear: 1-14                           [1, 1]                    33\n",
       "├─Sigmoid: 1-15                          [1, 1]                    --\n",
       "==========================================================================================\n",
       "Total params: 3,930,305\n",
       "Trainable params: 3,930,305\n",
       "Non-trainable params: 0\n",
       "Total mult-adds (G): 2.81\n",
       "==========================================================================================\n",
       "Input size (MB): 0.60\n",
       "Forward/backward pass size (MB): 45.03\n",
       "Params size (MB): 15.72\n",
       "Estimated Total Size (MB): 61.36\n",
       "=========================================================================================="
      ]
     },
     "execution_count": 18,
     "metadata": {},
     "output_type": "execute_result"
    }
   ],
   "source": [
    "summary(model_1, input_size=(1, 3, 224, 224))"
   ]
  },
  {
   "cell_type": "code",
   "execution_count": 19,
   "id": "05e9aeee",
   "metadata": {},
   "outputs": [],
   "source": [
    "loss_bc = BCELoss()"
   ]
  },
  {
   "cell_type": "code",
   "execution_count": 20,
   "id": "35c29305",
   "metadata": {},
   "outputs": [],
   "source": [
    "optim = Adam(model_1.parameters(), lr=1e-4)"
   ]
  },
  {
   "cell_type": "markdown",
   "id": "13614ffd",
   "metadata": {},
   "source": [
    "# Write functions to train a batch and calculate the loss/accuracy"
   ]
  },
  {
   "cell_type": "code",
   "execution_count": 21,
   "id": "83e55655",
   "metadata": {},
   "outputs": [],
   "source": [
    "'''Function for predicting a batch, calculating the loss,\n",
    "   calculate the gradients & adjust them'''\n",
    "def train_batch(model, optimizer, loss, X, y):\n",
    "    model.train()\n",
    "    \n",
    "    pred = model(X) \n",
    "    \n",
    "    pred = pred.squeeze()\n",
    "    \n",
    "    batch_loss = loss(pred, y)\n",
    "    \n",
    "    batch_loss.backward()\n",
    "    \n",
    "    optimizer.step()\n",
    "    \n",
    "    optimizer.zero_grad()\n",
    "    \n",
    "    return batch_loss.item()"
   ]
  },
  {
   "cell_type": "code",
   "execution_count": 22,
   "id": "33b68872",
   "metadata": {},
   "outputs": [],
   "source": [
    "'''Function for calculating the accuracy without adjusting the weights'''\n",
    "@torch.no_grad()\n",
    "def calculate_accuracy(model, X, y):\n",
    "    model.eval()\n",
    "    \n",
    "    pred = model(X)\n",
    "    \n",
    "    pred = pred.squeeze()  # dims must match for pred & y\n",
    "    \n",
    "    correct = (pred > 0.5)  == y  # True if prediction > 0.5 == 1 or < 0.5 == 0\n",
    "    \n",
    "    accuracy = correct.sum() / correct.__len__()\n",
    "    \n",
    "    accuracy = accuracy.tolist()\n",
    "    \n",
    "    return np.array(accuracy)"
   ]
  },
  {
   "cell_type": "code",
   "execution_count": 23,
   "id": "cae78ee7",
   "metadata": {},
   "outputs": [],
   "source": [
    "'''Function for calculating validation loss without adjusting the weights'''\n",
    "@torch.no_grad()\n",
    "def calculate_val_loss(model, loss, X, y):\n",
    "    model.eval()\n",
    "    \n",
    "    pred = model(X)\n",
    "    \n",
    "    pred = pred.squeeze()\n",
    "    \n",
    "    batch_loss = loss(pred, y)\n",
    "    \n",
    "    return batch_loss.item()"
   ]
  },
  {
   "cell_type": "markdown",
   "id": "bb0fbf36",
   "metadata": {},
   "source": [
    "# Train the model and plot the train/val - loss/accuracy"
   ]
  },
  {
   "cell_type": "code",
   "execution_count": 24,
   "id": "d73247f7",
   "metadata": {},
   "outputs": [],
   "source": [
    "NUM_EPOCHS = 5"
   ]
  },
  {
   "cell_type": "code",
   "execution_count": 25,
   "id": "397754bc",
   "metadata": {
    "scrolled": false
   },
   "outputs": [
    {
     "data": {
      "application/vnd.jupyter.widget-view+json": {
       "model_id": "6070fe5cdd4e4799b77c6b2441b6b4b5",
       "version_major": 2,
       "version_minor": 0
      },
      "text/plain": [
       "  0%|          | 0/5 [00:00<?, ?it/s]"
      ]
     },
     "metadata": {},
     "output_type": "display_data"
    },
    {
     "data": {
      "application/vnd.jupyter.widget-view+json": {
       "model_id": "56a2d4ef480a4bdfac9d33b6203a479e",
       "version_major": 2,
       "version_minor": 0
      },
      "text/plain": [
       "0it [00:00, ?it/s]"
      ]
     },
     "metadata": {},
     "output_type": "display_data"
    },
    {
     "data": {
      "application/vnd.jupyter.widget-view+json": {
       "model_id": "3554352fbdc74bfb9b190e012d6f755d",
       "version_major": 2,
       "version_minor": 0
      },
      "text/plain": [
       "0it [00:00, ?it/s]"
      ]
     },
     "metadata": {},
     "output_type": "display_data"
    },
    {
     "data": {
      "application/vnd.jupyter.widget-view+json": {
       "model_id": "6ba356a8f9bd46d7b0fe22a43454ed76",
       "version_major": 2,
       "version_minor": 0
      },
      "text/plain": [
       "0it [00:00, ?it/s]"
      ]
     },
     "metadata": {},
     "output_type": "display_data"
    },
    {
     "data": {
      "application/vnd.jupyter.widget-view+json": {
       "model_id": "1a62cb7865ff4c0b9a76a07f9cddf2ed",
       "version_major": 2,
       "version_minor": 0
      },
      "text/plain": [
       "0it [00:00, ?it/s]"
      ]
     },
     "metadata": {},
     "output_type": "display_data"
    },
    {
     "data": {
      "application/vnd.jupyter.widget-view+json": {
       "model_id": "2cc4c149c6764318ad252a084bb96360",
       "version_major": 2,
       "version_minor": 0
      },
      "text/plain": [
       "0it [00:00, ?it/s]"
      ]
     },
     "metadata": {},
     "output_type": "display_data"
    },
    {
     "data": {
      "application/vnd.jupyter.widget-view+json": {
       "model_id": "2b21550259f94104b2cdf13e84f66629",
       "version_major": 2,
       "version_minor": 0
      },
      "text/plain": [
       "0it [00:00, ?it/s]"
      ]
     },
     "metadata": {},
     "output_type": "display_data"
    },
    {
     "data": {
      "application/vnd.jupyter.widget-view+json": {
       "model_id": "8b76042ba04c48bcbcaadaafa671f8a2",
       "version_major": 2,
       "version_minor": 0
      },
      "text/plain": [
       "0it [00:00, ?it/s]"
      ]
     },
     "metadata": {},
     "output_type": "display_data"
    },
    {
     "data": {
      "application/vnd.jupyter.widget-view+json": {
       "model_id": "d452dde80b4540f48d49deddb1905203",
       "version_major": 2,
       "version_minor": 0
      },
      "text/plain": [
       "0it [00:00, ?it/s]"
      ]
     },
     "metadata": {},
     "output_type": "display_data"
    },
    {
     "data": {
      "application/vnd.jupyter.widget-view+json": {
       "model_id": "bca6a7ba71a346b19a726f4d3f7708cc",
       "version_major": 2,
       "version_minor": 0
      },
      "text/plain": [
       "0it [00:00, ?it/s]"
      ]
     },
     "metadata": {},
     "output_type": "display_data"
    },
    {
     "data": {
      "application/vnd.jupyter.widget-view+json": {
       "model_id": "ff8718702af341cba021d03f4bd5dfef",
       "version_major": 2,
       "version_minor": 0
      },
      "text/plain": [
       "0it [00:00, ?it/s]"
      ]
     },
     "metadata": {},
     "output_type": "display_data"
    },
    {
     "data": {
      "application/vnd.jupyter.widget-view+json": {
       "model_id": "855e04ded7894279a0f69ff336cd5fc3",
       "version_major": 2,
       "version_minor": 0
      },
      "text/plain": [
       "0it [00:00, ?it/s]"
      ]
     },
     "metadata": {},
     "output_type": "display_data"
    },
    {
     "data": {
      "application/vnd.jupyter.widget-view+json": {
       "model_id": "7c78df3297c3466abf9441273d704707",
       "version_major": 2,
       "version_minor": 0
      },
      "text/plain": [
       "0it [00:00, ?it/s]"
      ]
     },
     "metadata": {},
     "output_type": "display_data"
    },
    {
     "data": {
      "application/vnd.jupyter.widget-view+json": {
       "model_id": "4dd493a91e814ba985a66e9d2c2802cb",
       "version_major": 2,
       "version_minor": 0
      },
      "text/plain": [
       "0it [00:00, ?it/s]"
      ]
     },
     "metadata": {},
     "output_type": "display_data"
    },
    {
     "data": {
      "application/vnd.jupyter.widget-view+json": {
       "model_id": "2eb4d3b8f40a491cbb2a12533d303786",
       "version_major": 2,
       "version_minor": 0
      },
      "text/plain": [
       "0it [00:00, ?it/s]"
      ]
     },
     "metadata": {},
     "output_type": "display_data"
    },
    {
     "data": {
      "application/vnd.jupyter.widget-view+json": {
       "model_id": "02afa05f58724c5e878ac961dd920e43",
       "version_major": 2,
       "version_minor": 0
      },
      "text/plain": [
       "0it [00:00, ?it/s]"
      ]
     },
     "metadata": {},
     "output_type": "display_data"
    }
   ],
   "source": [
    "'''Train the model for some epochs. In each epoch feed in all the batches (train and valid).\n",
    "   Calculate the loss and accuracy for each batch and add them up after each epoch.\n",
    "   Save the numbers after each epoch to plot them.'''\n",
    "\n",
    "num_epochs = 5\n",
    "\n",
    "train_epoch_losses, valid_epoch_losses = [], []\n",
    "train_epoch_accuracies, valid_epoch_accuracies = [], []\n",
    "    \n",
    "for epoch in tqdm(range(num_epochs)):\n",
    "\n",
    "    train_epoch_loss, valid_epoch_loss = [], []\n",
    "    train_epoch_accuracy, valid_epoch_accuracy = [], []\n",
    "\n",
    "    #training & get train loss\n",
    "    for index, (X, y) in tqdm(enumerate(train_dataloader)):\n",
    "        batch_loss = train_batch(model_1, optim, loss_bc, X, y)\n",
    "        train_epoch_loss.append(batch_loss)\n",
    "    train_epoch_loss_mean = np.array(train_epoch_loss).mean()\n",
    "    train_epoch_losses.append(train_epoch_loss_mean)\n",
    "\n",
    "    #get train accuracy\n",
    "    for index, (X, y) in tqdm(enumerate(train_dataloader)):\n",
    "        train_accuracy = calculate_accuracy(model_1, X, y)\n",
    "        train_epoch_accuracy.append(train_accuracy)\n",
    "    train_epoch_accuracy_mean = np.array(train_epoch_accuracy).mean()\n",
    "    train_epoch_accuracies.append(train_epoch_accuracy_mean)\n",
    "\n",
    "    #get valid loss and accuracy\n",
    "    for index, (X, y) in tqdm(enumerate(valid_dataloader)):\n",
    "        batch_loss = calculate_val_loss(model_1, loss_bc, X, y)\n",
    "        valid_epoch_loss.append(batch_loss)\n",
    "\n",
    "        batch_accuracy = calculate_accuracy(model_1, X, y)\n",
    "        valid_epoch_accuracy.append(batch_accuracy)\n",
    "\n",
    "    valid_epoch_loss_mean = np.array(valid_epoch_loss).mean()\n",
    "    valid_epoch_accuracy_mean = np.array(valid_epoch_accuracy).mean()\n",
    "\n",
    "    valid_epoch_losses.append(valid_epoch_loss_mean)\n",
    "    valid_epoch_accuracies.append(valid_epoch_accuracy_mean)"
   ]
  },
  {
   "cell_type": "code",
   "execution_count": 27,
   "id": "cddc927a",
   "metadata": {},
   "outputs": [
    {
     "data": {
      "image/png": "[encoded data removed]",
      "text/plain": [
       "<Figure size 640x480 with 1 Axes>"
      ]
     },
     "metadata": {},
     "output_type": "display_data"
    }
   ],
   "source": [
    "Epochs_List = list(range(1, 6))  # 5 epochs\n",
    "plt.plot(Epochs_List, train_epoch_losses, color='blue', label='Train Loss')\n",
    "plt.plot(Epochs_List, valid_epoch_losses, color='red', label='Valid Loss')\n",
    "plt.gca().xaxis.set_major_locator(mticker.MultipleLocator(1))\n",
    "plt.xlabel('Epochs')\n",
    "plt.ylabel('Loss [BCE]')\n",
    "plt.title('Train- & Valid-Loss over Epochs')\n",
    "plt.legend()\n",
    "plt.show()"
   ]
  },
  {
   "cell_type": "code",
   "execution_count": 28,
   "id": "54572e42",
   "metadata": {},
   "outputs": [
    {
     "data": {
      "image/png": "[encoded data removed]",
      "text/plain": [
       "<Figure size 640x480 with 1 Axes>"
      ]
     },
     "metadata": {},
     "output_type": "display_data"
    }
   ],
   "source": [
    "Epochs_List = list(range(1, num_epochs + 1))\n",
    "plt.plot(Epochs_List, train_epoch_accuracies, color='blue', label='Train Accuracy')\n",
    "plt.plot(Epochs_List, valid_epoch_accuracies, color='red', label='Valid Accuracy')\n",
    "plt.gca().xaxis.set_major_locator(mticker.MultipleLocator(1))\n",
    "plt.xlabel('Epochs')\n",
    "plt.ylabel('Accuracy')\n",
    "plt.title('Train- & Valid-Accuracy over Epochs')\n",
    "plt.legend()\n",
    "plt.show()"
   ]
  },
  {
   "cell_type": "markdown",
   "id": "35f75aec",
   "metadata": {},
   "source": [
    "Validation loss is still decreasing rapidly & validation accuracy going up, so longer training would be needed"
   ]
  },
  {
   "cell_type": "markdown",
   "id": "d5b99848",
   "metadata": {},
   "source": [
    "# Now lets use a pretrained net that already learned multiple features "
   ]
  },
  {
   "cell_type": "markdown",
   "id": "07e27f10",
   "metadata": {},
   "source": [
    "For a preptrained model its good practice to normalize (mean and std for all RGB-channels) the inputs based on the original datasets statistics (for ImageNet its mean=[0.485, 0.456, 0.406], std=[0.229, 0.224, 0.225])"
   ]
  },
  {
   "cell_type": "markdown",
   "id": "450a1240",
   "metadata": {},
   "source": [
    "## Build a new Dataset & DataLoader"
   ]
  },
  {
   "cell_type": "code",
   "execution_count": 29,
   "id": "73059d39",
   "metadata": {},
   "outputs": [],
   "source": [
    "class Cats_Dogs_VGG(Dataset):\n",
    "    \n",
    "    def __init__(self, folder):\n",
    "        \n",
    "        self.files = glob(folder + '/*')  # all files\n",
    "        shuffle(self.files)\n",
    "        get_target = lambda x: 1 if 'dog' in x else 0  # function to get correct target\n",
    "        self.targets = [get_target(x) for x in self.files]  # create targets\n",
    "        self.n_samples = len(self.files)\n",
    "        self.normalize = transforms.Normalize(mean=[0.485, 0.456, 0.406], std=[0.229, 0.224, 0.225])\n",
    "    \n",
    "    def __len__(self):\n",
    "        return self.n_samples\n",
    "    \n",
    "    def __getitem__(self, index):\n",
    "        X = self.files[index]\n",
    "        y = self.targets[index]\n",
    "        y = torch.tensor(y).float()\n",
    "        X = cv2.imread(X)[:, :, ::-1]  # BGR --> RGB\n",
    "        X = cv2.resize(X, (IMG_SIZE, IMG_SIZE))\n",
    "        X = torch.tensor(X).float() / 255  # scale and make float\n",
    "        X = X.permute(2, 0, 1)  # channels in first dim\n",
    "        X = self.normalize(X)\n",
    "        \n",
    "        return X.to(device), y.to(device)"
   ]
  },
  {
   "cell_type": "code",
   "execution_count": 30,
   "id": "2ef3dc5c",
   "metadata": {},
   "outputs": [],
   "source": [
    "train_dataset_VGG = Cats_Dogs_VGG(folder='Training_Data')\n",
    "valid_dataset_VGG = Cats_Dogs_VGG(folder='Valid_Data')"
   ]
  },
  {
   "cell_type": "code",
   "execution_count": 31,
   "id": "81c23666",
   "metadata": {},
   "outputs": [],
   "source": [
    "train_dataloader_VGG = DataLoader(dataset=train_dataset_VGG, batch_size=32, shuffle=True)\n",
    "valid_dataloader_VGG = DataLoader(dataset=valid_dataset_VGG, batch_size=32, shuffle=True)"
   ]
  },
  {
   "cell_type": "markdown",
   "id": "e7a3e0b2",
   "metadata": {},
   "source": [
    "Get the VGG16 model & freeze the weights which are allready trained"
   ]
  },
  {
   "cell_type": "code",
   "execution_count": 32,
   "id": "7dbd2b07",
   "metadata": {},
   "outputs": [],
   "source": [
    "model_2_VGG = models.vgg16(weights=VGG16_Weights.DEFAULT)"
   ]
  },
  {
   "cell_type": "code",
   "execution_count": 33,
   "id": "8242ec3f",
   "metadata": {},
   "outputs": [],
   "source": [
    "for param in model_2_VGG.parameters():\n",
    "    param.requires_grad = False"
   ]
  },
  {
   "cell_type": "code",
   "execution_count": 34,
   "id": "972d2b7c",
   "metadata": {},
   "outputs": [
    {
     "data": {
      "text/plain": [
       "==========================================================================================\n",
       "Layer (type:depth-idx)                   Output Shape              Param #\n",
       "==========================================================================================\n",
       "VGG                                      [1, 1000]                 --\n",
       "├─Sequential: 1-1                        [1, 512, 7, 7]            --\n",
       "│    └─Conv2d: 2-1                       [1, 64, 224, 224]         (1,792)\n",
       "│    └─ReLU: 2-2                         [1, 64, 224, 224]         --\n",
       "│    └─Conv2d: 2-3                       [1, 64, 224, 224]         (36,928)\n",
       "│    └─ReLU: 2-4                         [1, 64, 224, 224]         --\n",
       "│    └─MaxPool2d: 2-5                    [1, 64, 112, 112]         --\n",
       "│    └─Conv2d: 2-6                       [1, 128, 112, 112]        (73,856)\n",
       "│    └─ReLU: 2-7                         [1, 128, 112, 112]        --\n",
       "│    └─Conv2d: 2-8                       [1, 128, 112, 112]        (147,584)\n",
       "│    └─ReLU: 2-9                         [1, 128, 112, 112]        --\n",
       "│    └─MaxPool2d: 2-10                   [1, 128, 56, 56]          --\n",
       "│    └─Conv2d: 2-11                      [1, 256, 56, 56]          (295,168)\n",
       "│    └─ReLU: 2-12                        [1, 256, 56, 56]          --\n",
       "│    └─Conv2d: 2-13                      [1, 256, 56, 56]          (590,080)\n",
       "│    └─ReLU: 2-14                        [1, 256, 56, 56]          --\n",
       "│    └─Conv2d: 2-15                      [1, 256, 56, 56]          (590,080)\n",
       "│    └─ReLU: 2-16                        [1, 256, 56, 56]          --\n",
       "│    └─MaxPool2d: 2-17                   [1, 256, 28, 28]          --\n",
       "│    └─Conv2d: 2-18                      [1, 512, 28, 28]          (1,180,160)\n",
       "│    └─ReLU: 2-19                        [1, 512, 28, 28]          --\n",
       "│    └─Conv2d: 2-20                      [1, 512, 28, 28]          (2,359,808)\n",
       "│    └─ReLU: 2-21                        [1, 512, 28, 28]          --\n",
       "│    └─Conv2d: 2-22                      [1, 512, 28, 28]          (2,359,808)\n",
       "│    └─ReLU: 2-23                        [1, 512, 28, 28]          --\n",
       "│    └─MaxPool2d: 2-24                   [1, 512, 14, 14]          --\n",
       "│    └─Conv2d: 2-25                      [1, 512, 14, 14]          (2,359,808)\n",
       "│    └─ReLU: 2-26                        [1, 512, 14, 14]          --\n",
       "│    └─Conv2d: 2-27                      [1, 512, 14, 14]          (2,359,808)\n",
       "│    └─ReLU: 2-28                        [1, 512, 14, 14]          --\n",
       "│    └─Conv2d: 2-29                      [1, 512, 14, 14]          (2,359,808)\n",
       "│    └─ReLU: 2-30                        [1, 512, 14, 14]          --\n",
       "│    └─MaxPool2d: 2-31                   [1, 512, 7, 7]            --\n",
       "├─AdaptiveAvgPool2d: 1-2                 [1, 512, 7, 7]            --\n",
       "├─Sequential: 1-3                        [1, 1000]                 --\n",
       "│    └─Linear: 2-32                      [1, 4096]                 (102,764,544)\n",
       "│    └─ReLU: 2-33                        [1, 4096]                 --\n",
       "│    └─Dropout: 2-34                     [1, 4096]                 --\n",
       "│    └─Linear: 2-35                      [1, 4096]                 (16,781,312)\n",
       "│    └─ReLU: 2-36                        [1, 4096]                 --\n",
       "│    └─Dropout: 2-37                     [1, 4096]                 --\n",
       "│    └─Linear: 2-38                      [1, 1000]                 (4,097,000)\n",
       "==========================================================================================\n",
       "Total params: 138,357,544\n",
       "Trainable params: 0\n",
       "Non-trainable params: 138,357,544\n",
       "Total mult-adds (G): 15.48\n",
       "==========================================================================================\n",
       "Input size (MB): 0.60\n",
       "Forward/backward pass size (MB): 108.45\n",
       "Params size (MB): 553.43\n",
       "Estimated Total Size (MB): 662.49\n",
       "=========================================================================================="
      ]
     },
     "execution_count": 34,
     "metadata": {},
     "output_type": "execute_result"
    }
   ],
   "source": [
    "summary(model_2_VGG, input_size=(1, 3, 224, 224))"
   ]
  },
  {
   "cell_type": "markdown",
   "id": "20235305",
   "metadata": {},
   "source": [
    "All weights frozen, so no parameter is trainable"
   ]
  },
  {
   "cell_type": "markdown",
   "id": "31ffb219",
   "metadata": {},
   "source": [
    "The last two modules (AdaptiveAvgPool2d & Sequential) can be replaced"
   ]
  },
  {
   "cell_type": "code",
   "execution_count": 35,
   "id": "78b0f4a2",
   "metadata": {},
   "outputs": [],
   "source": [
    "model_2_VGG.avgpool = nn.AdaptiveAvgPool2d(output_size=(1, 1))"
   ]
  },
  {
   "cell_type": "code",
   "execution_count": 36,
   "id": "15210fbf",
   "metadata": {},
   "outputs": [],
   "source": [
    "class model_2_VGG_Out(nn.Module):\n",
    "    def __init__(self):\n",
    "        super().__init__()\n",
    "        self.flat = nn.Flatten()\n",
    "        \n",
    "        self.fc_1 = nn.Linear(512, 128)\n",
    "        self.bn_1 = nn.BatchNorm1d(128)\n",
    "        self.act_1 = nn.ReLU()\n",
    "        self.drop_1 = nn.Dropout(0.2)\n",
    "        \n",
    "        self.fc_2 = nn.Linear(128, 32)\n",
    "        self.bn_2 = nn.BatchNorm1d(32)\n",
    "        self.act_2 = nn.ReLU()\n",
    "        self.drop_2 = nn.Dropout(0.2)\n",
    "        \n",
    "        self.fc_3 = nn.Linear(32, 1)\n",
    "        self.out = nn.Sigmoid()\n",
    "        \n",
    "    def forward(self, x):\n",
    "        x = self.flat(x)\n",
    "        \n",
    "        x = self.fc_1(x)\n",
    "        x = self.bn_1(x)\n",
    "        x = self.act_1(x)\n",
    "        x = self.drop_1(x)\n",
    "        \n",
    "        x = self.fc_2(x)\n",
    "        x = self.bn_2(x)\n",
    "        x = self.act_2(x)\n",
    "        x = self.drop_2(x)\n",
    "        \n",
    "        x = self.fc_3(x)\n",
    "        x = self.out(x)\n",
    "        \n",
    "        return x"
   ]
  },
  {
   "cell_type": "code",
   "execution_count": 37,
   "id": "2c908b77",
   "metadata": {},
   "outputs": [],
   "source": [
    "model_2_VGG_OUT = model_2_VGG_Out()"
   ]
  },
  {
   "cell_type": "code",
   "execution_count": 38,
   "id": "943354dc",
   "metadata": {},
   "outputs": [],
   "source": [
    "model_2_VGG.classifier = model_2_VGG_OUT"
   ]
  },
  {
   "cell_type": "code",
   "execution_count": 39,
   "id": "58a197ce",
   "metadata": {},
   "outputs": [
    {
     "data": {
      "text/plain": [
       "==========================================================================================\n",
       "Layer (type:depth-idx)                   Output Shape              Param #\n",
       "==========================================================================================\n",
       "VGG                                      [1, 1]                    --\n",
       "├─Sequential: 1-1                        [1, 512, 7, 7]            --\n",
       "│    └─Conv2d: 2-1                       [1, 64, 224, 224]         (1,792)\n",
       "│    └─ReLU: 2-2                         [1, 64, 224, 224]         --\n",
       "│    └─Conv2d: 2-3                       [1, 64, 224, 224]         (36,928)\n",
       "│    └─ReLU: 2-4                         [1, 64, 224, 224]         --\n",
       "│    └─MaxPool2d: 2-5                    [1, 64, 112, 112]         --\n",
       "│    └─Conv2d: 2-6                       [1, 128, 112, 112]        (73,856)\n",
       "│    └─ReLU: 2-7                         [1, 128, 112, 112]        --\n",
       "│    └─Conv2d: 2-8                       [1, 128, 112, 112]        (147,584)\n",
       "│    └─ReLU: 2-9                         [1, 128, 112, 112]        --\n",
       "│    └─MaxPool2d: 2-10                   [1, 128, 56, 56]          --\n",
       "│    └─Conv2d: 2-11                      [1, 256, 56, 56]          (295,168)\n",
       "│    └─ReLU: 2-12                        [1, 256, 56, 56]          --\n",
       "│    └─Conv2d: 2-13                      [1, 256, 56, 56]          (590,080)\n",
       "│    └─ReLU: 2-14                        [1, 256, 56, 56]          --\n",
       "│    └─Conv2d: 2-15                      [1, 256, 56, 56]          (590,080)\n",
       "│    └─ReLU: 2-16                        [1, 256, 56, 56]          --\n",
       "│    └─MaxPool2d: 2-17                   [1, 256, 28, 28]          --\n",
       "│    └─Conv2d: 2-18                      [1, 512, 28, 28]          (1,180,160)\n",
       "│    └─ReLU: 2-19                        [1, 512, 28, 28]          --\n",
       "│    └─Conv2d: 2-20                      [1, 512, 28, 28]          (2,359,808)\n",
       "│    └─ReLU: 2-21                        [1, 512, 28, 28]          --\n",
       "│    └─Conv2d: 2-22                      [1, 512, 28, 28]          (2,359,808)\n",
       "│    └─ReLU: 2-23                        [1, 512, 28, 28]          --\n",
       "│    └─MaxPool2d: 2-24                   [1, 512, 14, 14]          --\n",
       "│    └─Conv2d: 2-25                      [1, 512, 14, 14]          (2,359,808)\n",
       "│    └─ReLU: 2-26                        [1, 512, 14, 14]          --\n",
       "│    └─Conv2d: 2-27                      [1, 512, 14, 14]          (2,359,808)\n",
       "│    └─ReLU: 2-28                        [1, 512, 14, 14]          --\n",
       "│    └─Conv2d: 2-29                      [1, 512, 14, 14]          (2,359,808)\n",
       "│    └─ReLU: 2-30                        [1, 512, 14, 14]          --\n",
       "│    └─MaxPool2d: 2-31                   [1, 512, 7, 7]            --\n",
       "├─AdaptiveAvgPool2d: 1-2                 [1, 512, 1, 1]            --\n",
       "├─model_2_VGG_Out: 1-3                   [1, 1]                    --\n",
       "│    └─Flatten: 2-32                     [1, 512]                  --\n",
       "│    └─Linear: 2-33                      [1, 128]                  65,664\n",
       "│    └─BatchNorm1d: 2-34                 [1, 128]                  256\n",
       "│    └─ReLU: 2-35                        [1, 128]                  --\n",
       "│    └─Dropout: 2-36                     [1, 128]                  --\n",
       "│    └─Linear: 2-37                      [1, 32]                   4,128\n",
       "│    └─BatchNorm1d: 2-38                 [1, 32]                   64\n",
       "│    └─ReLU: 2-39                        [1, 32]                   --\n",
       "│    └─Dropout: 2-40                     [1, 32]                   --\n",
       "│    └─Linear: 2-41                      [1, 1]                    33\n",
       "│    └─Sigmoid: 2-42                     [1, 1]                    --\n",
       "==========================================================================================\n",
       "Total params: 14,784,833\n",
       "Trainable params: 70,145\n",
       "Non-trainable params: 14,714,688\n",
       "Total mult-adds (G): 15.36\n",
       "==========================================================================================\n",
       "Input size (MB): 0.60\n",
       "Forward/backward pass size (MB): 108.38\n",
       "Params size (MB): 59.14\n",
       "Estimated Total Size (MB): 168.12\n",
       "=========================================================================================="
      ]
     },
     "execution_count": 39,
     "metadata": {},
     "output_type": "execute_result"
    }
   ],
   "source": [
    "summary(model_2_VGG, input_size=(1, 3, 224, 224))"
   ]
  },
  {
   "cell_type": "markdown",
   "id": "5b27fedf",
   "metadata": {},
   "source": [
    "Now 70,145 trainable new parameters (weights no frozen)"
   ]
  },
  {
   "cell_type": "code",
   "execution_count": 40,
   "id": "954e0033",
   "metadata": {},
   "outputs": [],
   "source": [
    "optimizer_2_VGG = Adam(model_2_VGG.parameters(), lr=1e-4)"
   ]
  },
  {
   "cell_type": "code",
   "execution_count": 41,
   "id": "1b6e2e9f",
   "metadata": {},
   "outputs": [],
   "source": [
    "loss_2_VGG = nn.BCELoss()"
   ]
  },
  {
   "cell_type": "code",
   "execution_count": 42,
   "id": "dc1744b1",
   "metadata": {},
   "outputs": [
    {
     "data": {
      "text/plain": [
       "VGG(\n",
       "  (features): Sequential(\n",
       "    (0): Conv2d(3, 64, kernel_size=(3, 3), stride=(1, 1), padding=(1, 1))\n",
       "    (1): ReLU(inplace=True)\n",
       "    (2): Conv2d(64, 64, kernel_size=(3, 3), stride=(1, 1), padding=(1, 1))\n",
       "    (3): ReLU(inplace=True)\n",
       "    (4): MaxPool2d(kernel_size=2, stride=2, padding=0, dilation=1, ceil_mode=False)\n",
       "    (5): Conv2d(64, 128, kernel_size=(3, 3), stride=(1, 1), padding=(1, 1))\n",
       "    (6): ReLU(inplace=True)\n",
       "    (7): Conv2d(128, 128, kernel_size=(3, 3), stride=(1, 1), padding=(1, 1))\n",
       "    (8): ReLU(inplace=True)\n",
       "    (9): MaxPool2d(kernel_size=2, stride=2, padding=0, dilation=1, ceil_mode=False)\n",
       "    (10): Conv2d(128, 256, kernel_size=(3, 3), stride=(1, 1), padding=(1, 1))\n",
       "    (11): ReLU(inplace=True)\n",
       "    (12): Conv2d(256, 256, kernel_size=(3, 3), stride=(1, 1), padding=(1, 1))\n",
       "    (13): ReLU(inplace=True)\n",
       "    (14): Conv2d(256, 256, kernel_size=(3, 3), stride=(1, 1), padding=(1, 1))\n",
       "    (15): ReLU(inplace=True)\n",
       "    (16): MaxPool2d(kernel_size=2, stride=2, padding=0, dilation=1, ceil_mode=False)\n",
       "    (17): Conv2d(256, 512, kernel_size=(3, 3), stride=(1, 1), padding=(1, 1))\n",
       "    (18): ReLU(inplace=True)\n",
       "    (19): Conv2d(512, 512, kernel_size=(3, 3), stride=(1, 1), padding=(1, 1))\n",
       "    (20): ReLU(inplace=True)\n",
       "    (21): Conv2d(512, 512, kernel_size=(3, 3), stride=(1, 1), padding=(1, 1))\n",
       "    (22): ReLU(inplace=True)\n",
       "    (23): MaxPool2d(kernel_size=2, stride=2, padding=0, dilation=1, ceil_mode=False)\n",
       "    (24): Conv2d(512, 512, kernel_size=(3, 3), stride=(1, 1), padding=(1, 1))\n",
       "    (25): ReLU(inplace=True)\n",
       "    (26): Conv2d(512, 512, kernel_size=(3, 3), stride=(1, 1), padding=(1, 1))\n",
       "    (27): ReLU(inplace=True)\n",
       "    (28): Conv2d(512, 512, kernel_size=(3, 3), stride=(1, 1), padding=(1, 1))\n",
       "    (29): ReLU(inplace=True)\n",
       "    (30): MaxPool2d(kernel_size=2, stride=2, padding=0, dilation=1, ceil_mode=False)\n",
       "  )\n",
       "  (avgpool): AdaptiveAvgPool2d(output_size=(1, 1))\n",
       "  (classifier): model_2_VGG_Out(\n",
       "    (flat): Flatten(start_dim=1, end_dim=-1)\n",
       "    (fc_1): Linear(in_features=512, out_features=128, bias=True)\n",
       "    (bn_1): BatchNorm1d(128, eps=1e-05, momentum=0.1, affine=True, track_running_stats=True)\n",
       "    (act_1): ReLU()\n",
       "    (drop_1): Dropout(p=0.2, inplace=False)\n",
       "    (fc_2): Linear(in_features=128, out_features=32, bias=True)\n",
       "    (bn_2): BatchNorm1d(32, eps=1e-05, momentum=0.1, affine=True, track_running_stats=True)\n",
       "    (act_2): ReLU()\n",
       "    (drop_2): Dropout(p=0.2, inplace=False)\n",
       "    (fc_3): Linear(in_features=32, out_features=1, bias=True)\n",
       "    (out): Sigmoid()\n",
       "  )\n",
       ")"
      ]
     },
     "execution_count": 42,
     "metadata": {},
     "output_type": "execute_result"
    }
   ],
   "source": [
    "model_2_VGG.to(device)"
   ]
  },
  {
   "cell_type": "markdown",
   "id": "1fef38c3",
   "metadata": {},
   "source": [
    "Train the second model with the pretrained VGG architecture for 5 epochs and see differnece"
   ]
  },
  {
   "cell_type": "code",
   "execution_count": 48,
   "id": "8084e709",
   "metadata": {},
   "outputs": [
    {
     "data": {
      "application/vnd.jupyter.widget-view+json": {
       "model_id": "afbf8723745c469c95f31f9115feee59",
       "version_major": 2,
       "version_minor": 0
      },
      "text/plain": [
       "  0%|          | 0/5 [00:00<?, ?it/s]"
      ]
     },
     "metadata": {},
     "output_type": "display_data"
    },
    {
     "data": {
      "application/vnd.jupyter.widget-view+json": {
       "model_id": "6076eadddfff44a8b11ceff72a6b9e89",
       "version_major": 2,
       "version_minor": 0
      },
      "text/plain": [
       "0it [00:00, ?it/s]"
      ]
     },
     "metadata": {},
     "output_type": "display_data"
    },
    {
     "data": {
      "application/vnd.jupyter.widget-view+json": {
       "model_id": "9b27558afdd74641a10d95fcda0d2ccc",
       "version_major": 2,
       "version_minor": 0
      },
      "text/plain": [
       "0it [00:00, ?it/s]"
      ]
     },
     "metadata": {},
     "output_type": "display_data"
    },
    {
     "data": {
      "application/vnd.jupyter.widget-view+json": {
       "model_id": "10aaf281f10443e5a538df0c7d04598b",
       "version_major": 2,
       "version_minor": 0
      },
      "text/plain": [
       "0it [00:00, ?it/s]"
      ]
     },
     "metadata": {},
     "output_type": "display_data"
    },
    {
     "data": {
      "application/vnd.jupyter.widget-view+json": {
       "model_id": "6af82e0539a3479897b515b0e1434ef3",
       "version_major": 2,
       "version_minor": 0
      },
      "text/plain": [
       "0it [00:00, ?it/s]"
      ]
     },
     "metadata": {},
     "output_type": "display_data"
    },
    {
     "data": {
      "application/vnd.jupyter.widget-view+json": {
       "model_id": "08e99cce96fe48058348b13dbf126ef3",
       "version_major": 2,
       "version_minor": 0
      },
      "text/plain": [
       "0it [00:00, ?it/s]"
      ]
     },
     "metadata": {},
     "output_type": "display_data"
    },
    {
     "data": {
      "application/vnd.jupyter.widget-view+json": {
       "model_id": "5f75b5d8abd24d6c9b451f5c4535e252",
       "version_major": 2,
       "version_minor": 0
      },
      "text/plain": [
       "0it [00:00, ?it/s]"
      ]
     },
     "metadata": {},
     "output_type": "display_data"
    },
    {
     "data": {
      "application/vnd.jupyter.widget-view+json": {
       "model_id": "8debe61f77a741bd9139c85eb7080e8d",
       "version_major": 2,
       "version_minor": 0
      },
      "text/plain": [
       "0it [00:00, ?it/s]"
      ]
     },
     "metadata": {},
     "output_type": "display_data"
    },
    {
     "data": {
      "application/vnd.jupyter.widget-view+json": {
       "model_id": "403e9b788ee64737bc5ec43689cf2397",
       "version_major": 2,
       "version_minor": 0
      },
      "text/plain": [
       "0it [00:00, ?it/s]"
      ]
     },
     "metadata": {},
     "output_type": "display_data"
    },
    {
     "data": {
      "application/vnd.jupyter.widget-view+json": {
       "model_id": "a182051fe12d472b9388402eec8ad86c",
       "version_major": 2,
       "version_minor": 0
      },
      "text/plain": [
       "0it [00:00, ?it/s]"
      ]
     },
     "metadata": {},
     "output_type": "display_data"
    },
    {
     "data": {
      "application/vnd.jupyter.widget-view+json": {
       "model_id": "a8b3955440e64ce0879f80d1d022f560",
       "version_major": 2,
       "version_minor": 0
      },
      "text/plain": [
       "0it [00:00, ?it/s]"
      ]
     },
     "metadata": {},
     "output_type": "display_data"
    },
    {
     "data": {
      "application/vnd.jupyter.widget-view+json": {
       "model_id": "1bdcf11d9eb34ad8942193ddec88a791",
       "version_major": 2,
       "version_minor": 0
      },
      "text/plain": [
       "0it [00:00, ?it/s]"
      ]
     },
     "metadata": {},
     "output_type": "display_data"
    },
    {
     "data": {
      "application/vnd.jupyter.widget-view+json": {
       "model_id": "0fec5b9e7157490d99230ee767304eba",
       "version_major": 2,
       "version_minor": 0
      },
      "text/plain": [
       "0it [00:00, ?it/s]"
      ]
     },
     "metadata": {},
     "output_type": "display_data"
    },
    {
     "data": {
      "application/vnd.jupyter.widget-view+json": {
       "model_id": "d0a12c0e85274836938eb9fbf3a70c0a",
       "version_major": 2,
       "version_minor": 0
      },
      "text/plain": [
       "0it [00:00, ?it/s]"
      ]
     },
     "metadata": {},
     "output_type": "display_data"
    },
    {
     "data": {
      "application/vnd.jupyter.widget-view+json": {
       "model_id": "fff0db9b33b0425498e8cc50d2891ebb",
       "version_major": 2,
       "version_minor": 0
      },
      "text/plain": [
       "0it [00:00, ?it/s]"
      ]
     },
     "metadata": {},
     "output_type": "display_data"
    },
    {
     "data": {
      "application/vnd.jupyter.widget-view+json": {
       "model_id": "6092b93e05f24f9096e2da7a714da555",
       "version_major": 2,
       "version_minor": 0
      },
      "text/plain": [
       "0it [00:00, ?it/s]"
      ]
     },
     "metadata": {},
     "output_type": "display_data"
    }
   ],
   "source": [
    "num_epochs = 5\n",
    "\n",
    "train_losses_VGG, valid_losses_VGG = [], []\n",
    "train_accuracies_VGG, valid_accuracies_VGG = [], []\n",
    "    \n",
    "for epoch in tqdm(range(num_epochs)):\n",
    "\n",
    "    train_loss_VGG, valid_loss_VGG = [], []\n",
    "    train_accuracy_VGG, valid_accuracy_VGG = [], []\n",
    "\n",
    "    #training & get train loss\n",
    "    for index, (X, y) in tqdm(enumerate(train_dataloader_VGG)):\n",
    "        batch_loss = train_batch(model_2_VGG, optimizer_2_VGG, loss_2_VGG, X, y)\n",
    "        train_loss_VGG.append(batch_loss)\n",
    "    train_loss_VGG_mean = np.array(train_loss_VGG).mean()\n",
    "    train_losses_VGG.append(train_loss_VGG_mean)\n",
    "\n",
    "    #get train accuracy\n",
    "    for index, (X, y) in tqdm(enumerate(train_dataloader_VGG)):\n",
    "        train_accuracy = calculate_accuracy(model_2_VGG, X, y)\n",
    "        train_accuracy_VGG.append(train_accuracy)\n",
    "    train_accuracy_VGG_mean = np.array(train_accuracy_VGG).mean()\n",
    "    train_accuracies_VGG.append(train_accuracy_VGG_mean)\n",
    "\n",
    "    #get valid loss and accuracy\n",
    "    for index, (X, y) in tqdm(enumerate(valid_dataloader_VGG)):\n",
    "        batch_loss = calculate_val_loss(model_2_VGG, loss_2_VGG, X, y)\n",
    "        valid_loss_VGG.append(batch_loss)\n",
    "\n",
    "        batch_accuracy = calculate_accuracy(model_2_VGG, X, y)\n",
    "        valid_accuracy_VGG.append(batch_accuracy)\n",
    "\n",
    "    valid_loss_VGG_mean = np.array(valid_loss_VGG).mean()\n",
    "    valid_accuracy_VGG_mean = np.array(valid_accuracy_VGG).mean()\n",
    "\n",
    "    valid_losses_VGG.append(valid_loss_VGG_mean)\n",
    "    valid_accuracies_VGG.append(valid_accuracy_VGG_mean)"
   ]
  },
  {
   "cell_type": "code",
   "execution_count": 49,
   "id": "40ba8998",
   "metadata": {},
   "outputs": [
    {
     "data": {
      "image/png": "[encoded data removed]",
      "text/plain": [
       "<Figure size 640x480 with 1 Axes>"
      ]
     },
     "metadata": {},
     "output_type": "display_data"
    }
   ],
   "source": [
    "Epochs_List = list(range(1, 6))  # 5 epochs\n",
    "plt.plot(Epochs_List, train_losses_VGG, color='blue', label='Train Loss')\n",
    "plt.plot(Epochs_List, valid_losses_VGG, color='red', label='Valid Loss')\n",
    "plt.gca().xaxis.set_major_locator(mticker.MultipleLocator(1))\n",
    "plt.xlabel('Epochs')\n",
    "plt.ylabel('Loss [BCE]')\n",
    "plt.title('Train- & Valid-Loss over Epochs')\n",
    "plt.legend()\n",
    "plt.show()"
   ]
  },
  {
   "cell_type": "code",
   "execution_count": 50,
   "id": "38b1569a",
   "metadata": {},
   "outputs": [
    {
     "data": {
      "image/png": "[encoded data removed]",
      "text/plain": [
       "<Figure size 640x480 with 1 Axes>"
      ]
     },
     "metadata": {},
     "output_type": "display_data"
    }
   ],
   "source": [
    "Epochs_List = list(range(1, num_epochs + 1))\n",
    "plt.plot(Epochs_List, train_accuracies_VGG, color='blue', label='Train Accuracy')\n",
    "plt.plot(Epochs_List, valid_accuracies_VGG, color='red', label='Valid Accuracy')\n",
    "plt.gca().xaxis.set_major_locator(mticker.MultipleLocator(1))\n",
    "plt.xlabel('Epochs')\n",
    "plt.ylabel('Accuracy')\n",
    "plt.title('Train- & Valid-Accuracy over Epochs')\n",
    "plt.legend()\n",
    "plt.show()"
   ]
  },
  {
   "cell_type": "markdown",
   "id": "cce257aa",
   "metadata": {},
   "source": [
    "The accuracy was around 98.5% at the second epoch, which is a lot better"
   ]
  },
  {
   "cell_type": "markdown",
   "id": "9cdde7a3",
   "metadata": {},
   "source": [
    "Possible next steps: Increase Regularization, Lower/reduceonplateau LR, data augmentation, modelcheckpoint (save weights at best value)"
   ]
  }
 ],
 "metadata": {
  "kernelspec": {
   "display_name": "pt",
   "language": "python",
   "name": "pt"
  },
  "language_info": {
   "codemirror_mode": {
    "name": "ipython",
    "version": 3
   },
   "file_extension": ".py",
   "mimetype": "text/x-python",
   "name": "python",
   "nbconvert_exporter": "python",
   "pygments_lexer": "ipython3",
   "version": "3.9.13"
  }
 },
 "nbformat": 4,
 "nbformat_minor": 5
}
